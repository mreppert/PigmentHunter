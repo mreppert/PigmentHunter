{
 "cells": [
  {
   "cell_type": "code",
   "execution_count": 20,
   "metadata": {},
   "outputs": [
    {
     "name": "stdout",
     "output_type": "stream",
     "text": [
      "Max Abs TrESP Error: 0.498\n",
      "Max Abs PDC Error: 0.1599999999999966\n",
      "[[ 0.  -0.   0.  -0.  -0.  -0.1 -0.  -0.   0.   0.   0.  -0.   0. ]\n",
      " [-0.   0.   0.1 -0.2 -0.   0.   0.   0.  -0.  -0.1  0.  -0.   0. ]\n",
      " [ 0.   0.1  0.  -0.  -0.  -0.  -0.   0.  -0.  -0.   0.  -0.1  0. ]\n",
      " [-0.  -0.2 -0.   0.  -0.  -0.  -0.  -0.   0.  -0.  -0.  -0.  -0. ]\n",
      " [-0.  -0.  -0.  -0.   0.   0.   0.1  0.  -0.1  0.  -0.1  0.   0.1]\n",
      " [-0.1  0.  -0.  -0.   0.   0.  -0.1  0.   0.   0.  -0.   0.   0. ]\n",
      " [-0.   0.  -0.  -0.   0.1 -0.1  0.  -0.  -0.1  0.  -0.  -0.  -0. ]\n",
      " [-0.   0.   0.  -0.   0.   0.  -0.   0.  -0.1 -0.1 -0.1 -0.  -0. ]\n",
      " [ 0.  -0.  -0.   0.  -0.1  0.  -0.1 -0.1  0.   0.1 -0.2 -0.1 -0. ]\n",
      " [ 0.  -0.1 -0.  -0.   0.   0.   0.  -0.1  0.1  0.   0.1  0.  -0. ]\n",
      " [ 0.   0.   0.  -0.  -0.1 -0.  -0.  -0.1 -0.2  0.1  0.  -0.  -0.1]\n",
      " [-0.  -0.  -0.1 -0.   0.   0.  -0.  -0.  -0.1  0.  -0.   0.   0.1]\n",
      " [ 0.   0.   0.  -0.   0.1  0.  -0.  -0.  -0.  -0.  -0.1  0.1  0. ]]\n"
     ]
    }
   ],
   "source": [
    "import numpy as np\n",
    "import matplotlib.pyplot as plt\n",
    "\n",
    "np.set_printoptions(precision=1, suppress=True, linewidth=90)\n",
    "\n",
    "rpdc = np.loadtxt('asym_coups_cp43_reppert2008.txt')\n",
    "rpdc += rpdc.transpose()\n",
    "\n",
    "rtresp = np.loadtxt('asym_coups_cp47_reppert2010.txt')\n",
    "rtresp += rtresp.transpose()\n",
    "\n",
    "tpdc = np.loadtxt('2AXTpdc_coups.txt')\n",
    "ttresp = np.loadtxt('3BZ1tresp_coups.txt')\n",
    "\n",
    "\n",
    "\n",
    "print('Max Abs TrESP Error:', np.max(np.abs(rtresp - ttresp)))\n",
    "print('Max Abs PDC Error:', np.max(np.abs(rpdc - tpdc)))\n",
    "\n",
    "print(rpdc - tpdc)"
   ]
  },
  {
   "cell_type": "code",
   "execution_count": null,
   "metadata": {},
   "outputs": [],
   "source": []
  }
 ],
 "metadata": {
  "kernelspec": {
   "display_name": "Python 3",
   "language": "python",
   "name": "python3"
  },
  "language_info": {
   "codemirror_mode": {
    "name": "ipython",
    "version": 3
   },
   "file_extension": ".py",
   "mimetype": "text/x-python",
   "name": "python",
   "nbconvert_exporter": "python",
   "pygments_lexer": "ipython3",
   "version": "3.7.7"
  }
 },
 "nbformat": 4,
 "nbformat_minor": 2
}
