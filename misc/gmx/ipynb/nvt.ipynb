{
 "cells": [
  {
   "cell_type": "code",
   "execution_count": null,
   "metadata": {},
   "outputs": [],
   "source": [
    "%%javascript\n",
    "IPython.OutputArea.prototype._should_scroll = function(lines) {\n",
    "    return false;\n",
    "}"
   ]
  },
  {
   "cell_type": "code",
   "execution_count": null,
   "metadata": {},
   "outputs": [],
   "source": [
    "import os,sys\n",
    "sys.path.append('./misc/lib/python3.7/site-packages')\n",
    "\n",
    "import math\n",
    "import numpy as np\n",
    "import requests\n",
    "import nglview as nv\n",
    "import ipywidgets as widgets\n",
    "%matplotlib notebook\n",
    "import matplotlib.pyplot as plt\n",
    "from IPython.display import display, display_markdown\n",
    "from ipywidgets import Layout, HTML\n",
    "from pathlib import Path\n",
    "\n",
    "import parmed as pmd\n",
    "import re\n",
    "\n",
    "import hublib.use\n",
    "from hublib.ui import FileUpload, Download\n",
    "from hublib.cmd import runCommand\n",
    "\n",
    "from scipy.ndimage import gaussian_filter\n",
    "\n",
    "import time\n",
    "\n",
    "%matplotlib notebook\n",
    "# %use gromacs-2018.4\n",
    "%use pymol-1.8.4\n",
    "\n",
    "import hublib.usesh\n",
    "%usesh gromacs-2018.4\n",
    "\n",
    "np.set_printoptions(precision=8)\n",
    "np.set_printoptions(suppress=True)"
   ]
  },
  {
   "cell_type": "code",
   "execution_count": null,
   "metadata": {},
   "outputs": [],
   "source": [
    "out = !{\"cp ../pdb2gmx/*.top ./\"}\n",
    "out = !{\"cp ../pdb2gmx/*.itp ./\"}\n",
    "out = !{\"cp ../pdb2gmx/em.gro ./\"}\n",
    "out = !{\"cp ../pdb2gmx/charges.txt ./\"}\n",
    "out = !{\"gmx grompp -maxwarn 1 -f nvt.mdp -c em.gro -r em.gro -p complex.top -o nvt.tpr\"}\n",
    "out = !{\"gmx mdrun -v -deffnm nvt\"}\n",
    "for line in out:\n",
    "    print(line)\n",
    "    \n",
    "#out = !{\"gmx trjconv -f nvt.gro -s nvt.tpr -o nvt.pdb\"}"
   ]
  },
  {
   "cell_type": "code",
   "execution_count": null,
   "metadata": {},
   "outputs": [],
   "source": []
  }
 ],
 "metadata": {
  "kernelspec": {
   "display_name": "Python 3",
   "language": "python",
   "name": "python3"
  },
  "language_info": {
   "codemirror_mode": {
    "name": "ipython",
    "version": 3
   },
   "file_extension": ".py",
   "mimetype": "text/x-python",
   "name": "python",
   "nbconvert_exporter": "python",
   "pygments_lexer": "ipython3",
   "version": "3.7.7"
  }
 },
 "nbformat": 4,
 "nbformat_minor": 2
}
