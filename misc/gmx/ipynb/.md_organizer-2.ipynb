{
 "cells": [
  {
   "cell_type": "code",
   "execution_count": 5,
   "metadata": {},
   "outputs": [
    {
     "data": {
      "application/javascript": [
       "IPython.OutputArea.prototype._should_scroll = function(lines) {\n",
       "    return false;\n",
       "}\n"
      ],
      "text/plain": [
       "<IPython.core.display.Javascript object>"
      ]
     },
     "metadata": {},
     "output_type": "display_data"
    }
   ],
   "source": [
    "%%javascript\n",
    "IPython.OutputArea.prototype._should_scroll = function(lines) {\n",
    "    return false;\n",
    "}"
   ]
  },
  {
   "cell_type": "code",
   "execution_count": 22,
   "metadata": {},
   "outputs": [],
   "source": [
    "import os,sys\n",
    "sys.path.append('./misc/lib/python3.7/site-packages')\n",
    "\n",
    "import math\n",
    "import numpy as np\n",
    "import requests\n",
    "import nglview as nv\n",
    "import ipywidgets as widgets\n",
    "%matplotlib notebook\n",
    "import matplotlib.pyplot as plt\n",
    "from IPython.display import display, display_markdown\n",
    "from ipywidgets import Layout, HTML\n",
    "from pathlib import Path\n",
    "\n",
    "import parmed as pmd\n",
    "import re\n",
    "\n",
    "import hublib.use\n",
    "from hublib.ui import FileUpload, Download\n",
    "from hublib.cmd import runCommand\n",
    "\n",
    "from scipy.ndimage import gaussian_filter\n",
    "\n",
    "%matplotlib notebook\n",
    "%use gromacs-5.1.4\n",
    "%use pymol-1.8.4\n",
    "\n",
    "np.set_printoptions(precision=8)\n",
    "np.set_printoptions(suppress=True)\n",
    "\n",
    "\n",
    "HTMLButtonPrompt = '''<html>\n",
    "<head>\n",
    "<meta name=\"viewport\" content=\"width=device-width, initial-scale=1\">\n",
    "</head>\n",
    "<body>\n",
    "<a href=\"{link}\" target=\"_blank\" >\n",
    "<button class=\"p-Widget jupyter-widgets jupyter-button widget-button mod-warning\" style=\"width:175px; background-color:#E9E9E9; font-size:10pt; color:black\">{text}</button>\n",
    "</a>\n",
    "</body>\n",
    "</html>\n",
    "'''\n",
    "\n",
    "HTMLDeadPrompt = '''<html>\n",
    "<head>\n",
    "<meta name=\"viewport\" content=\"width=device-width, initial-scale=1\">\n",
    "</head>\n",
    "<body>\n",
    "<button class=\"p-Widget jupyter-widgets jupyter-button widget-button mod-warning\" style=\"width:175px; background-color:#E9E9E9; font-size:10pt; color:#D2D2D2\">{text}</button>\n",
    "</body>\n",
    "</html>\n",
    "'''\n",
    "\n",
    "forbidden_strings = [\"..\", \"/\", \"\\\\\", \" \", \"~\"]"
   ]
  },
  {
   "cell_type": "code",
   "execution_count": 92,
   "metadata": {},
   "outputs": [
    {
     "data": {
      "application/vnd.jupyter.widget-view+json": {
       "model_id": "5e7943cbce03469397667878ac52ac09",
       "version_major": 2,
       "version_minor": 0
      },
      "text/plain": [
       "HBox(children=(HTML(value='<html>\\n<head>\\n<meta name=\"viewport\" content=\"width=device-width, initial-scale=1\"…"
      ]
     },
     "metadata": {},
     "output_type": "display_data"
    },
    {
     "data": {
      "application/vnd.jupyter.widget-view+json": {
       "model_id": "e82e18f81b264481a59fcd5db3677875",
       "version_major": 2,
       "version_minor": 0
      },
      "text/plain": [
       "HBox(children=(HTML(value='<html>\\n<head>\\n<meta name=\"viewport\" content=\"width=device-width, initial-scale=1\"…"
      ]
     },
     "metadata": {},
     "output_type": "display_data"
    },
    {
     "data": {
      "application/vnd.jupyter.widget-view+json": {
       "model_id": "91f834f4620e4759a9f8b25f26d80d2a",
       "version_major": 2,
       "version_minor": 0
      },
      "text/plain": [
       "HBox(children=(HTML(value='<html>\\n<head>\\n<meta name=\"viewport\" content=\"width=device-width, initial-scale=1\"…"
      ]
     },
     "metadata": {},
     "output_type": "display_data"
    }
   ],
   "source": [
    "class md_step:\n",
    "    def __init__(self, link, linktext):\n",
    "        self.link = link\n",
    "        self.linktext = linktext\n",
    "        self.linkbox = widgets.HTML(HTMLDeadPrompt.format(text=linktext))\n",
    "        self.ynbox = widgets.Checkbox(\n",
    "            value=False,\n",
    "            description='Validate',\n",
    "            disabled=True\n",
    "        )\n",
    "        self.hbox = widgets.HBox([self.linkbox, self.ynbox])\n",
    "        self.ynbox.observe(box_on_check)\n",
    "        \n",
    "    def set_disabled(self, value):\n",
    "        self.ynbox.disabled = value\n",
    "        if value==False:\n",
    "            self.linkbox.value = HTMLButtonPrompt.format(link=self.link, text=self.linktext)\n",
    "        if value==True:\n",
    "            self.ynbox.value = False\n",
    "            self.linkbox.value = HTMLDeadPrompt.format(text=self.linktext)\n",
    "        \n",
    "def box_on_check(change):\n",
    "    global StepList\n",
    "    Nsteps = len(StepList)\n",
    "    for n in range(0, Nsteps):\n",
    "        step = StepList[n]\n",
    "        if step.ynbox==change['owner']:\n",
    "            if n<Nsteps-1:\n",
    "                if change['new']==True:\n",
    "                    nstep = StepList[n+1]\n",
    "                    nstep.set_disabled(False)\n",
    "                \n",
    "                if change['new']==False:\n",
    "                    for m in range(n+1, Nsteps):\n",
    "                        nstep = StepList[m]\n",
    "                        nstep.set_disabled(True)\n",
    "\n",
    "StepList = [\n",
    "    md_step('pdb2gmx/pdb2gmx.ipynb', 'Build Protein Topology'),\n",
    "    md_step('pdb2gmx/add_hydrogens.ipynb', 'Build Pigment Topology'),\n",
    "    md_step('pdb2gmx/build_complex.ipynb', 'Build Complex'),\n",
    "]\n",
    "\n",
    "StepList[0].set_disabled(False)\n",
    "\n",
    "for step in StepList:\n",
    "    display(step.hbox)"
   ]
  },
  {
   "cell_type": "code",
   "execution_count": null,
   "metadata": {},
   "outputs": [],
   "source": []
  },
  {
   "cell_type": "code",
   "execution_count": null,
   "metadata": {},
   "outputs": [],
   "source": []
  }
 ],
 "metadata": {
  "kernelspec": {
   "display_name": "Python 3",
   "language": "python",
   "name": "python3"
  },
  "language_info": {
   "codemirror_mode": {
    "name": "ipython",
    "version": 3
   },
   "file_extension": ".py",
   "mimetype": "text/x-python",
   "name": "python",
   "nbconvert_exporter": "python",
   "pygments_lexer": "ipython3",
   "version": "3.7.7"
  }
 },
 "nbformat": 4,
 "nbformat_minor": 2
}
