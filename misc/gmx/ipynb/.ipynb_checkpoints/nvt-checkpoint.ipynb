{
 "cells": [
  {
   "cell_type": "code",
   "execution_count": null,
   "metadata": {},
   "outputs": [],
   "source": [
    "%%javascript\n",
    "IPython.OutputArea.prototype._should_scroll = function(lines) {\n",
    "    return false;\n",
    "}"
   ]
  },
  {
   "cell_type": "code",
   "execution_count": null,
   "metadata": {},
   "outputs": [],
   "source": [
    "import os,sys\n",
    "sys.path.append('./misc/lib/python3.7/site-packages')\n",
    "\n",
    "%matplotlib inline\n",
    "\n",
    "import math\n",
    "import numpy as np\n",
    "import requests\n",
    "import ipywidgets as widgets\n",
    "import time\n",
    "import parmed as pmd\n",
    "import re\n",
    "\n",
    "import matplotlib.pyplot as plt\n",
    "from IPython.display import display, display_markdown\n",
    "from ipywidgets import Layout, HTML\n",
    "from pathlib import Path\n",
    "from scipy import spatial\n",
    "\n",
    "import threading\n",
    "\n",
    "NGL_DEF = False\n",
    "try:\n",
    "    import nglview as nv\n",
    "    NGL_DEF = True\n",
    "except:\n",
    "    NGL_DEF = False\n",
    "\n",
    "import hublib.use\n",
    "%use gromacs-2018.4\n",
    "\n",
    "np.set_printoptions(precision=8)\n",
    "np.set_printoptions(suppress=True)\n",
    "\n",
    "\n",
    "HTMLButtonPrompt = '''<html>\n",
    "<head>\n",
    "<meta name=\"viewport\" content=\"width=device-width, initial-scale=1\">\n",
    "</head>\n",
    "<body>\n",
    "<a href=\"{link}\" target=\"_blank\" >\n",
    "<button class=\"p-Widget jupyter-widgets jupyter-button widget-button mod-warning\" style=\"width:150px; background-color:#CCCCCC; font-size:10pt; color:black\">{text}</button>\n",
    "</a>\n",
    "</body>\n",
    "</html>\n",
    "'''   "
   ]
  },
  {
   "cell_type": "code",
   "execution_count": null,
   "metadata": {},
   "outputs": [],
   "source": [
    "def writelog(msg, leadchar):\n",
    "    with open(\"./logfile.txt\", 'a') as fd:\n",
    "        for line in msg:\n",
    "            fd.write(leadchar + \" \" + line + \"\\n\")\n",
    "            \n",
    "def runbash(cmd, comment):\n",
    "    out = !{cmd}\n",
    "    writelog([\"*****************************************************\"], '')\n",
    "    writelog([comment], '# ')\n",
    "    writelog([\"Running bash command:\"], '# ')\n",
    "    writelog([cmd+'\\n'], 'bash >> ')\n",
    "    writelog(out, 'out: ')\n",
    "    writelog([\"*****************************************************\"], '')\n",
    "    return out"
   ]
  },
  {
   "cell_type": "code",
   "execution_count": null,
   "metadata": {},
   "outputs": [],
   "source": [
    "out = runbash(\"cp ../em/complex.top ./\", 'Copying topology file complex.top from em folder')\n",
    "out = runbash(\"cp ../em/*.itp ./\", 'Copying all itp files from em folder')\n",
    "out = runbash(\"cp ../em/em.gro ./\", 'Copying em.gro as input')\n",
    "out = runbash(\"cp ../em/charges.txt ./\", 'Copying charge file from em folder')\n",
    "out = runbash(\"gmx grompp -maxwarn 1 -f nvt.mdp -c em.gro -r em.gro -p complex.top -o nvt.tpr\",\n",
    "              \"Compiling tpr file with grompp\")\n",
    "\n",
    "#out = runbash(\"gmx mdrun -v -deffnm nvt\", 'Running NVT simulation')\n",
    "out = !submit -i nvt.tpr --detach gromacs-2018.4-gmx mdrun -v -deffnm nvt\n",
    "#!submit  gromacs-2018.4-gmx pdb2gmx -h\n",
    "for line in out:\n",
    "    print(line)\n",
    "    \n",
    "#out = runbash(\"echo 0 | gmx trjconv -f nvt.gro -s nvt.tpr -o nvt.pdb\")\n",
    "#for line in out:\n",
    "#    print(line)"
   ]
  },
  {
   "cell_type": "code",
   "execution_count": null,
   "metadata": {},
   "outputs": [],
   "source": []
  }
 ],
 "metadata": {
  "kernelspec": {
   "display_name": "Python 3",
   "language": "python",
   "name": "python3"
  },
  "language_info": {
   "codemirror_mode": {
    "name": "ipython",
    "version": 3
   },
   "file_extension": ".py",
   "mimetype": "text/x-python",
   "name": "python",
   "nbconvert_exporter": "python",
   "pygments_lexer": "ipython3",
   "version": "3.7.7"
  }
 },
 "nbformat": 4,
 "nbformat_minor": 2
}
