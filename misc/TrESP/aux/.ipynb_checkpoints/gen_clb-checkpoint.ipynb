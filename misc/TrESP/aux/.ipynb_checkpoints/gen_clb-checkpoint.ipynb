{
 "cells": [
  {
   "cell_type": "code",
   "execution_count": null,
   "metadata": {},
   "outputs": [],
   "source": [
    "fd = open('misc/TrEsp/chlb_charge.dat', 'r')\n",
    "fdo = open('misc/TrEsp/CLB.txt', 'w')\n",
    "n = 0\n",
    "for line in fd:\n",
    "    q10 = float(line.split()[0])\n",
    "    q00 = float(line.split()[1])\n",
    "    q11 = float(line.split()[2])\n",
    "    name = line.split()[-1]\n",
    "    fdo.write(Pig.tnames[n] + '\\t' + '{:.6f}'.format(q00) + '\\t' + '{:.6f}'.format(q10) + '\\t' + '{:.6f}'.format(q11) + '\\n')\n",
    "    n += 1\n",
    "fd.close()\n",
    "fdo.close()"
   ]
  }
 ],
 "metadata": {
  "kernelspec": {
   "display_name": "Python 3",
   "language": "python",
   "name": "python3"
  },
  "language_info": {
   "codemirror_mode": {
    "name": "ipython",
    "version": 3
   },
   "file_extension": ".py",
   "mimetype": "text/x-python",
   "name": "python",
   "nbconvert_exporter": "python",
   "pygments_lexer": "ipython3",
   "version": "3.7.7"
  }
 },
 "nbformat": 4,
 "nbformat_minor": 2
}
