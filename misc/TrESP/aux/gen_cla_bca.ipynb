{
 "cells": [
  {
   "cell_type": "code",
   "execution_count": 5,
   "metadata": {},
   "outputs": [],
   "source": [
    "import numpy as np"
   ]
  },
  {
   "cell_type": "code",
   "execution_count": 6,
   "metadata": {},
   "outputs": [],
   "source": [
    "class pigment_type:\n",
    "    def __init__(self, ResName, StdName, pClass, XAtNames, NSDNames, TrESPNames, Q10, Q00, Q11, diplength):\n",
    "        self.pclass = pClass,\n",
    "        self.name = ResName\n",
    "        self.stdname = StdName\n",
    "        self.xnames = XAtNames\n",
    "        self.nnames = NSDNames\n",
    "        self.tnames = TrESPNames\n",
    "        self.q10 = Q10\n",
    "        self.q00 = Q00\n",
    "        self.q11 = Q11\n",
    "        self.diplength = diplength\n",
    "\n",
    "\n",
    "CLA = pigment_type(\n",
    "    'Chl a',\n",
    "    'CLA',\n",
    "    '',\n",
    "    '',\n",
    "    [],\n",
    "    ['MG',    'CHA',    'CHB',    'CHC',    'CHD',  'NA',   'C1A',     'C2A',   'C3A',  'C4A',  'CMA',    'CAA',   'CBA',   'CGA',   'O1A',   'O2A',  'NB',     'C1B',  'C2B',  'C3B',   'C4B',   'CMB',    'CAB',   'CBB',  'NC',    'C1C',    'C2C',   'C3C',   'C4C',    'CMC',    'CAC',  'CBC',   'ND',     'C1D',    'C2D',   'C3D',    'C4D',     'CMD',   'CAD',     'OBD',    'CBD',    'CGD',  'O1D',    'O2D',  'CED',   'C1'],\n",
    "    np.array([-21.674, 106.779,  -48.696,  -98.725,  72.726, 31.683,  -130.820, 10.048,  2.389,  77.983,  5.556,   -1.050,  0.735,   -8.040,  -1.330,  7.091,  -62.297,  81.122, 4.777,  -9.204,  106.271,  16.963,  10.681,  34.947, -12.166,  83.646,  -7.420,  -1.126,   -44.008,  -5.161,  8.020,  1.012,   108.292,  -110.812, -11.981,  8.799,   -125.044,  -25.156,  -19.250,  -20.044,  -11.238,  5.979,   -5.388,  1.811,  -5.256,  -1.424])*(1e-3),\n",
    "    np.array([0.796,   -0.366,   0.046,    0.354,    0.259,  -0.245,  0.106,    0.186,   0.245,  -0.207,  -0.023,  -0.036,  -0.080,  0.673,   -0.522,  -0.374,  -0.281,  -0.038, 0.178,  -0.519,  0.096,    0.098,   0.110,   0.032,  -0.214,  -0.457,   0.246,   -0.318,   0.098,    0.061,   0.114,  0.007,  -0.348,    -0.390,    0.318,   -0.500,  0.420,     0.069,    0.543,    -0.460,   0.133,    0.424,   -0.428,  -0.343,  0.279,  0.258]),\n",
    "    np.array([0.789,   -0.359,   0.055,    0.292,    0.179,  -0.256,  0.136,    0.188,   0.244,  -0.195,  -0.022,  -0.033,   -0.078,  0.671,   -0.521,  -0.373,  -0.277,  -0.041, 0.139,  -0.541,  0.132,   0.098,    0.117,   0.018,  -0.260,  -0.391,   0.250,   -0.331,   0.198,    0.064,   0.114,  0.008,   -0.353,   -0.333,    0.287,   -0.504,  0.449,     0.068,    0.517,    -0.468,   0.132,    0.427,   -0.429,  -0.344,  0.279,  0.25]),\n",
    "    4.3e-18 # statC*cm\n",
    ")\n",
    "\n",
    "\n",
    "BCA = pigment_type(\n",
    "    'BChl a',\n",
    "    'BCA',\n",
    "    '',\n",
    "    '', \n",
    "    [],\n",
    "    ['MG', 'CHA', 'CHB', 'CHC', 'CHD', 'NA', 'C1A', 'C2A', 'C3A', 'C4A', 'CMA', 'CAA', 'CBA', 'CGA', 'O1A', 'O2A', 'NB', 'C1B', 'C2B', 'C3B', 'C4B', 'CMB', 'CAB', 'OBB', 'CBB', 'NC', 'C1C', 'C2C', 'C3C', 'C4C', 'CMC', 'CAC', 'CBC', 'ND', 'C1D', 'C2D', 'C3D', 'C4D', 'CMD', 'CAD', 'OBD', 'CBD', 'CGD', 'O1D', 'O2D', 'CED', 'C1'],\n",
    "    (1e-3)*np.array([-42.217,141.478,-14.988,-45.427,41.071,65.489,-134.776,19.419,2.723,17.043,11.656,-15.907,9.451,-5.063,5.421,-3.656,-28.216,87.663,-0.905,67.447,33.680,32.745,-25.091,37.208,19.037,16.855,80.984,-19.196,28.047,-116.550,7.787,0.863,-9.640,135.026,-111.514,-22.400,36.878,-200.720,-31.393,-35.896,-20.922,-2.346,-2.023,-8.885,7.086,-7.868,0.543]),\n",
    "    np.array([0.700,-0.286,0.316,0.310,0.287,-0.411,0.393,0.006,0.191,-0.224,-0.017,-0.009,-0.023,0.624,-0.476,-0.432,0.139,-0.486,0.120,0.089,-0.463,0.068,0.297,-0.400,0.034,-0.163,-0.187,0.139,0.123,-0.227,0.001,0.038,-0.017,-0.097,-0.406,0.228,-0.301,0.085,0.074,0.417,-0.433,0.190,0.355,-0.399,-0.328,0.285,0.276]),\n",
    "    np.array([0.683,-0.313,0.295,0.257,0.257,-0.439,0.413,0.015,0.194,-0.193,-0.013,-0.005,-0.024,0.627,-0.477,-0.433,0.125,-0.463,0.093,0.062,-0.393,0.067,0.274,-0.413,0.034,-0.202,-0.146,0.144,0.126,-0.167,0.004,0.042,-0.016,-0.109,-0.353,0.210,-0.297,0.132,0.076,0.390,-0.442,0.192,0.357,-0.401,-0.331,0.285,0.276]),\n",
    "    5.477e-18\n",
    ")\n"
   ]
  },
  {
   "cell_type": "code",
   "execution_count": 10,
   "metadata": {},
   "outputs": [],
   "source": [
    "Pig = CLA\n",
    "fd = open(Pig.stdname + '.txt', 'w')\n",
    "fd.write('# Atom\\tq00\\tq10\\tq11\\n')\n",
    "for n in range(0, len(Pig.tnames)):\n",
    "    fd.write(Pig.tnames[n] + '\\t' + '{:.6f}'.format(Pig.q00[n]) + '\\t' + '{:.6f}'.format(Pig.q10[n]) + '\\t' + '{:.6f}'.format(Pig.q11[n]) + '\\n')\n",
    "fd.close()"
   ]
  },
  {
   "cell_type": "code",
   "execution_count": 11,
   "metadata": {},
   "outputs": [],
   "source": [
    "Pig = BCA\n",
    "fd = open(Pig.stdname + '.txt', 'w')\n",
    "fd.write('# Atom\\tq00\\tq10\\tq11\\n')\n",
    "for n in range(0, len(Pig.tnames)):\n",
    "    fd.write(Pig.tnames[n] + '\\t' + '{:.6f}'.format(Pig.q00[n]) + '\\t' + '{:.6f}'.format(Pig.q10[n]) + '\\t' + '{:.6f}'.format(Pig.q11[n]) + '\\n')\n",
    "fd.close()"
   ]
  },
  {
   "cell_type": "code",
   "execution_count": null,
   "metadata": {},
   "outputs": [],
   "source": []
  }
 ],
 "metadata": {
  "kernelspec": {
   "display_name": "Python 3",
   "language": "python",
   "name": "python3"
  },
  "language_info": {
   "codemirror_mode": {
    "name": "ipython",
    "version": 3
   },
   "file_extension": ".py",
   "mimetype": "text/x-python",
   "name": "python",
   "nbconvert_exporter": "python",
   "pygments_lexer": "ipython3",
   "version": "3.7.7"
  }
 },
 "nbformat": 4,
 "nbformat_minor": 2
}
