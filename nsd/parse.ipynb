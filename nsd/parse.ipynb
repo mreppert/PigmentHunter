{
 "cells": [
  {
   "cell_type": "code",
   "execution_count": 1,
   "metadata": {
    "collapsed": true
   },
   "outputs": [],
   "source": [
    "import os.path\n",
    "\n",
    "# read name file\n",
    "file = open(\"names2.txt\",\"r\")\n",
    "names = []\n",
    "for line in file:\n",
    "    name = line.strip(\"\\n\")\n",
    "    names.append(name) \n",
    "file.close()"
   ]
  },
  {
   "cell_type": "code",
   "execution_count": 2,
   "metadata": {
    "collapsed": true,
    "scrolled": false
   },
   "outputs": [],
   "source": [
    "file = open(\"1RWT.pdb\",\"r\")\n",
    "ResIDs = []\n",
    "for line in file:\n",
    "    if \"HETATM\" in line[0:10] and \"MG\" not in line:\n",
    "        ResIDs.append(line.strip(\"\\n\"))\n",
    "        \n",
    "file.close()\n",
    "\n",
    "chain = []\n",
    "ID = []\n",
    "for r in ResIDs:\n",
    "    chain.append(r[21])\n",
    "    ID.append(r[23:26])\n",
    "    \n",
    "chain = list(dict.fromkeys(chain))\n",
    "chain.sort()\n",
    "\n",
    "ID = list(dict.fromkeys(ID))\n",
    "ID.sort()\n",
    "\n",
    "for r in ResIDs:\n",
    "    for c in chain:\n",
    "        for i in ID:\n",
    "            if c in r[21:26] and i in r[21:26] and (\"CHL\" in r or \"CLA\" in r):\n",
    "                a = open(c+i+\".txt\",\"w\")\n",
    "                a.close()\n",
    "\n",
    "for n in names:\n",
    "    for r in ResIDs:\n",
    "        for c in chain:\n",
    "            for i in ID:\n",
    "                if c in r[21:26] and i in r[21:26] and n in r:\n",
    "                    if os.path.isfile(c+i+\".txt\"):\n",
    "                        a = open(c+i+\".txt\",\"a\")\n",
    "                        a.write(n+\" \"+r[31:55]+\"\\n\")\n",
    "    a.close()\n",
    "\n"
   ]
  },
  {
   "cell_type": "code",
   "execution_count": null,
   "metadata": {
    "collapsed": true
   },
   "outputs": [],
   "source": []
  }
 ],
 "metadata": {
  "kernelspec": {
   "display_name": "Python 3",
   "language": "python",
   "name": "python3"
  },
  "language_info": {
   "codemirror_mode": {
    "name": "ipython",
    "version": 3
   },
   "file_extension": ".py",
   "mimetype": "text/x-python",
   "name": "python",
   "nbconvert_exporter": "python",
   "pygments_lexer": "ipython3",
   "version": "3.7.7"
  }
 },
 "nbformat": 4,
 "nbformat_minor": 2
}
