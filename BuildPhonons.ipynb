{
 "cells": [
  {
   "cell_type": "code",
   "execution_count": 1,
   "id": "0cc5c18c",
   "metadata": {
    "ExecuteTime": {
     "end_time": "2024-07-30T18:46:52.286551Z",
     "start_time": "2024-07-30T18:46:51.813025Z"
    }
   },
   "outputs": [],
   "source": [
    "import numpy as np\n",
    "import matplotlib.pyplot as plt\n",
    "%matplotlib notebook"
   ]
  },
  {
   "cell_type": "code",
   "execution_count": 5,
   "id": "8a62b51e",
   "metadata": {
    "ExecuteTime": {
     "end_time": "2024-07-30T18:50:45.883889Z",
     "start_time": "2024-07-30T18:50:45.402932Z"
    }
   },
   "outputs": [
    {
     "name": "stdout",
     "output_type": "stream",
     "text": [
      "[0.45, 28.0, 0.4]\n",
      "[0.15, 54.0, 0.2]\n",
      "[0.21, 90.0, 0.2]\n",
      "0.8099999999999999\n",
      "[0.39, 26.0, 0.4]\n",
      "[0.23, 51.0, 0.25]\n",
      "[0.23, 85.0, 0.2]\n",
      "0.85\n",
      "[0.5, 50.0, 0.9]\n",
      "0.5\n",
      "[0.3, 38, 0.7]\n",
      "0.3\n"
     ]
    }
   ],
   "source": [
    "def lndens(xaxis, params):\n",
    "    if np.any(xaxis<0):\n",
    "        print('Error: SpecDens axis should be strictly non-negative!')\n",
    "        return 0.0*xaxis\n",
    "    else:\n",
    "        vcut = params[0]\n",
    "        sigma = params[1]\n",
    "        prof = np.zeros(np.shape(xaxis))\n",
    "\n",
    "        # First point stays set to zero. \n",
    "        prof[1:] = np.exp(-((np.log(xaxis[1:]/vcut))**2)/(2.0*sigma*sigma))\n",
    "        prof[1:] /= xaxis[1:]\n",
    "        prof /= np.sum(prof)\n",
    "\n",
    "        return prof\n",
    "\n",
    "def nbar(v, T):\n",
    "    h = (6.626068e-34) #J*s\n",
    "    ccm = 2.9979e10 # cm/s\n",
    "    kBT = (1.3806503e-23)*T\n",
    "\n",
    "    val = np.zeros(np.shape(v))\n",
    "    ndcs = np.where(v>0)\n",
    "    efac = np.exp(-h*v[ndcs]*ccm/kBT)\n",
    "    val[ndcs] = efac/(1 - efac)\n",
    "    return val\n",
    "\n",
    "\n",
    "def build_profile(ParamList, xaxis):\n",
    "    phon_prof = np.zeros(np.shape(xaxis))\n",
    "    for row in ParamList:\n",
    "        print(row)\n",
    "        phon_prof += row[0]*lndens(xaxis, row[1:])\n",
    "        \n",
    "    phon_prof *= np.sum(np.array([row[0] for row in ParamList]))/np.sum(phon_prof)\n",
    "    return phon_prof\n",
    "\n",
    "vaxis = np.arange(0.0, 20000, 1.0)\n",
    "\n",
    "# Ca-WSCP/Chl a parameters:\n",
    "CLA_CaWSCP = [[0.45, 28.0, 0.4],\n",
    "              [0.15, 54.0, 0.2],\n",
    "              [0.21, 90.0, 0.2]]\n",
    "cla_wscp_spd = build_profile(CLA_CaWSCP, vaxis)\n",
    "np.savetxt('misc/Phonons/cla_wscp.spd', np.vstack((vaxis.T, cla_wscp_spd.T)).T)\n",
    "print(np.sum(cla_wscp_spd))\n",
    "\n",
    "\n",
    "# Ca-WSCP/Chl a parameters:\n",
    "CLB_CaWSCP = [[0.39, 26.0, 0.4],\n",
    "              [0.23, 51.0, 0.25],\n",
    "              [0.23, 85.0, 0.2]]\n",
    "clb_wscp_spd = build_profile(CLB_CaWSCP, vaxis)\n",
    "np.savetxt('misc/Phonons/clb_wscp.spd', np.vstack((vaxis.T, clb_wscp_spd.T)).T)\n",
    "print(np.sum(clb_wscp_spd))\n",
    "\n",
    "# CP29/Chl a parameters:\n",
    "CLA_CP29 = [[0.5, 50.0, 0.9]]\n",
    "cla_cp29_spd = build_profile(CLA_CP29, vaxis)\n",
    "np.savetxt('misc/Phonons/cla_cp29.spd', np.vstack((vaxis.T, cla_cp29_spd.T)).T)\n",
    "print(np.sum(cla_cp29_spd))\n",
    "\n",
    "# FMO/BChl a parameters:\n",
    "BCA_FMO = [[0.3, 38, 0.7]]\n",
    "bca_fmo_spd = build_profile(BCA_FMO, vaxis)\n",
    "np.savetxt('misc/Phonons/bca_fmo.spd', np.vstack((vaxis.T, bca_fmo_spd.T)).T)\n",
    "print(np.sum(bca_fmo_spd))"
   ]
  },
  {
   "cell_type": "code",
   "execution_count": null,
   "id": "0c73a362",
   "metadata": {},
   "outputs": [],
   "source": []
  }
 ],
 "metadata": {
  "kernelspec": {
   "display_name": "Python 3.8",
   "language": "python",
   "name": "python3"
  },
  "language_info": {
   "codemirror_mode": {
    "name": "ipython",
    "version": 3
   },
   "file_extension": ".py",
   "mimetype": "text/x-python",
   "name": "python",
   "nbconvert_exporter": "python",
   "pygments_lexer": "ipython3",
   "version": "3.8.10"
  },
  "toc": {
   "base_numbering": 1,
   "nav_menu": {},
   "number_sections": true,
   "sideBar": true,
   "skip_h1_title": false,
   "title_cell": "Table of Contents",
   "title_sidebar": "Contents",
   "toc_cell": false,
   "toc_position": {},
   "toc_section_display": true,
   "toc_window_display": false
  },
  "varInspector": {
   "cols": {
    "lenName": 16,
    "lenType": 16,
    "lenVar": 40
   },
   "kernels_config": {
    "python": {
     "delete_cmd_postfix": "",
     "delete_cmd_prefix": "del ",
     "library": "var_list.py",
     "varRefreshCmd": "print(var_dic_list())"
    },
    "r": {
     "delete_cmd_postfix": ") ",
     "delete_cmd_prefix": "rm(",
     "library": "var_list.r",
     "varRefreshCmd": "cat(var_dic_list()) "
    }
   },
   "types_to_exclude": [
    "module",
    "function",
    "builtin_function_or_method",
    "instance",
    "_Feature"
   ],
   "window_display": false
  }
 },
 "nbformat": 4,
 "nbformat_minor": 5
}
