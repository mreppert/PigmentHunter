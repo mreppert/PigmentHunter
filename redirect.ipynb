{
 "cells": [
  {
   "cell_type": "code",
   "execution_count": 15,
   "id": "subsequent-chicago",
   "metadata": {},
   "outputs": [
    {
     "data": {
      "text/html": [
       "<div id='tooldir'>.</div>"
      ],
      "text/plain": [
       "<IPython.core.display.HTML object>"
      ]
     },
     "execution_count": 15,
     "metadata": {},
     "output_type": "execute_result"
    }
   ],
   "source": [
    "from IPython.display import HTML\n",
    "import os\n",
    "\n",
    "with open('.tooldir.txt', 'r') as fd:\n",
    "    tooldir = fd.readline()\n",
    "    \n",
    "tooldir = os.path.relpath(tooldir)\n",
    "    \n",
    "if tooldir[-1]=='/':\n",
    "    tooldir = tooldir[:-1]\n",
    "    \n",
    "HTML(\"<div id='tooldir'>\" + tooldir + \"</div>\")"
   ]
  },
  {
   "cell_type": "code",
   "execution_count": null,
   "id": "fantastic-bookmark",
   "metadata": {},
   "outputs": [
    {
     "data": {
      "application/javascript": [
       "\n",
       "var tooldir = document.getElementById('tooldir').innerHTML;\n",
       "\n",
       "location.replace(tooldir + \"/main.ipynb\")\n"
      ],
      "text/plain": [
       "<IPython.core.display.Javascript object>"
      ]
     },
     "metadata": {},
     "output_type": "display_data"
    }
   ],
   "source": [
    "%%javascript\n",
    "\n",
    "var tooldir = document.getElementById('tooldir').innerHTML;\n",
    "\n",
    "location.replace(tooldir + \"/main.ipynb\")"
   ]
  },
  {
   "cell_type": "code",
   "execution_count": null,
   "id": "exempt-british",
   "metadata": {},
   "outputs": [],
   "source": []
  }
 ],
 "metadata": {
  "kernelspec": {
   "display_name": "Python 3",
   "language": "python",
   "name": "python3"
  },
  "language_info": {
   "codemirror_mode": {
    "name": "ipython",
    "version": 3
   },
   "file_extension": ".py",
   "mimetype": "text/x-python",
   "name": "python",
   "nbconvert_exporter": "python",
   "pygments_lexer": "ipython3",
   "version": "3.7.7"
  }
 },
 "nbformat": 4,
 "nbformat_minor": 5
}
