{
 "cells": [
  {
   "cell_type": "code",
   "execution_count": 1,
   "metadata": {
    "ExecuteTime": {
     "end_time": "2023-05-25T12:16:27.367513Z",
     "start_time": "2023-05-25T12:16:27.356634Z"
    }
   },
   "outputs": [
    {
     "data": {
      "application/javascript": [
       "IPython.OutputArea.prototype._should_scroll = function(lines) {\n",
       "    return false;\n",
       "}\n"
      ],
      "text/plain": [
       "<IPython.core.display.Javascript object>"
      ]
     },
     "metadata": {},
     "output_type": "display_data"
    }
   ],
   "source": [
    "%%javascript\n",
    "IPython.OutputArea.prototype._should_scroll = function(lines) {\n",
    "    return false;\n",
    "}"
   ]
  },
  {
   "cell_type": "code",
   "execution_count": 2,
   "metadata": {
    "ExecuteTime": {
     "end_time": "2023-05-25T12:21:15.633827Z",
     "start_time": "2023-05-25T12:21:14.814214Z"
    }
   },
   "outputs": [
    {
     "data": {
      "application/vnd.jupyter.widget-view+json": {
       "model_id": "a3e4642462c34696b81bdda448ea4548",
       "version_major": 2,
       "version_minor": 0
      },
      "text/plain": []
     },
     "metadata": {},
     "output_type": "display_data"
    }
   ],
   "source": [
    "import os,sys\n",
    "sys.path.append('./misc/lib/python3.7/site-packages')\n",
    "\n",
    "import math\n",
    "import numpy as np\n",
    "import requests\n",
    "import ipywidgets as widgets\n",
    "import matplotlib.pyplot as plt\n",
    "from IPython.display import display, display_markdown\n",
    "from ipywidgets import Layout, HTML\n",
    "from pathlib import Path\n",
    "\n",
    "NGL_DEF = False\n",
    "try:\n",
    "    import nglview as nv\n",
    "    NGL_DEF = True\n",
    "except:\n",
    "    NGL_DEF = False\n",
    "    \n",
    "\n",
    "import parmed as pmd\n",
    "import re\n",
    "\n",
    "from scipy.ndimage import gaussian_filter\n",
    "\n",
    "np.set_printoptions(precision=8)\n",
    "np.set_printoptions(suppress=True)\n",
    "\n",
    "HTMLButtonPrompt = '''<html>\n",
    "<head>\n",
    "<meta name=\"viewport\" content=\"width=device-width, initial-scale=1\">\n",
    "</head>\n",
    "<body>\n",
    "<a href=\"{link}\" target=\"_blank\" >\n",
    "<button class=\"p-Widget jupyter-widgets jupyter-button widget-button mod-warning\" style=\"width:100px; background-color:#E9E9E9; font-size:10pt; color:black\">{text}</button>\n",
    "</a>\n",
    "</body>\n",
    "</html>\n",
    "'''\n",
    "\n",
    "HTMLDeadPrompt = '''<html>\n",
    "<head>\n",
    "<meta name=\"viewport\" content=\"width=device-width, initial-scale=1\">\n",
    "</head>\n",
    "<body>\n",
    "<button class=\"p-Widget jupyter-widgets jupyter-button widget-button mod-warning\" style=\"width:100px; background-color:#E9E9E9; font-size:10pt; color:#D2D2D2\">{text}</button>\n",
    "</body>\n",
    "</html>\n",
    "'''\n",
    "\n",
    "forbidden_strings = [\"..\", \"/\", \"\\\\\", \" \", \"~\"]"
   ]
  },
  {
   "cell_type": "code",
   "execution_count": 6,
   "metadata": {
    "ExecuteTime": {
     "end_time": "2023-05-25T12:28:20.731277Z",
     "start_time": "2023-05-25T12:28:20.727245Z"
    }
   },
   "outputs": [],
   "source": [
    "sys.path.append('./main/')\n",
    "import phutil\n",
    "\n",
    "\n",
    "# Set data storage directory\n",
    "try:\n",
    "    DATADIR = os.path.relpath(os.environ['DATADIR'])\n",
    "except:\n",
    "    HOME = os.path.relpath(os.environ['HOME']) \n",
    "    DATADIR = HOME + '/PIGMENTHUNTER/data'\n",
    "    \n",
    "    phutil.build_data_folders(DATADIR)\n"
   ]
  },
  {
   "cell_type": "code",
   "execution_count": 7,
   "metadata": {
    "ExecuteTime": {
     "end_time": "2023-05-25T12:28:23.400578Z",
     "start_time": "2023-05-25T12:28:23.341612Z"
    }
   },
   "outputs": [
    {
     "data": {
      "application/vnd.jupyter.widget-view+json": {
       "model_id": "9a732b8020764f299be9d32f5fdb92ca",
       "version_major": 2,
       "version_minor": 0
      },
      "text/plain": [
       "HBox(children=(Dropdown(description='System:', layout=Layout(width='6cm'), options=('2DRE', '2DRE-a', '2DREm',…"
      ]
     },
     "metadata": {},
     "output_type": "display_data"
    },
    {
     "data": {
      "application/vnd.jupyter.widget-view+json": {
       "model_id": "ab3bef1c67a8416da73d701d92e1c064",
       "version_major": 2,
       "version_minor": 0
      },
      "text/plain": [
       "HTML(value='<html>\\n<head>\\n<meta name=\"viewport\" content=\"width=device-width, initial-scale=1\">\\n</head>\\n<bo…"
      ]
     },
     "metadata": {},
     "output_type": "display_data"
    }
   ],
   "source": [
    "mddrop = widgets.Dropdown(\n",
    "    options=[],\n",
    "    value = None,\n",
    "    description='System:',\n",
    "    disabled=False,\n",
    "    layout=Layout(width='6cm')\n",
    ")\n",
    "mddrop.style.description_width='2cm'\n",
    "\n",
    "# Executed when selection changes\n",
    "def mddrop_on_value_change(change):\n",
    "    prefix = mddrop.value\n",
    "    if os.path.isfile(DATADIR + '/md/' + prefix + '/md_organizer.ipynb'):\n",
    "        launch_bt.value = HTMLButtonPrompt.format(link=DATADIR + \"/md/\" + prefix + \"/md_organizer.ipynb\", text='Launch')\n",
    "    else:\n",
    "        launch_bt.value = HTMLDeadPrompt.format(text='Launch')\n",
    "        \n",
    "    \n",
    "mddrop.observe(mddrop_on_value_change, 'value')\n",
    "\n",
    "\n",
    "def refresh_mdlist(b):\n",
    "    mdsys = mddrop.value\n",
    "    dirlist = !{\"ls \" + DATADIR + \"/md\"}\n",
    "    mdlist = []\n",
    "    for folder in dirlist:\n",
    "        prefix = folder.split('/')[-1]\n",
    "        if prefix!=\"readme.txt\":\n",
    "            mdlist.append(prefix)\n",
    "    mddrop.options = mdlist\n",
    "    \n",
    "refresh_bt = widgets.Button(\n",
    "    description='Refresh List',\n",
    "    layout=widgets.Layout(width='2.5cm')\n",
    ")\n",
    "refresh_bt.on_click(refresh_mdlist)\n",
    "\n",
    "launch_bt = widgets.HTML()\n",
    "\n",
    "refresh_mdlist(0)\n",
    "\n",
    "\n",
    "display(widgets.HBox([mddrop, refresh_bt]))\n",
    "display(launch_bt)"
   ]
  },
  {
   "cell_type": "code",
   "execution_count": null,
   "metadata": {},
   "outputs": [],
   "source": []
  },
  {
   "cell_type": "code",
   "execution_count": null,
   "metadata": {},
   "outputs": [],
   "source": []
  }
 ],
 "metadata": {
  "kernelspec": {
   "display_name": "Python 3.8",
   "language": "python",
   "name": "python3"
  },
  "language_info": {
   "codemirror_mode": {
    "name": "ipython",
    "version": 3
   },
   "file_extension": ".py",
   "mimetype": "text/x-python",
   "name": "python",
   "nbconvert_exporter": "python",
   "pygments_lexer": "ipython3",
   "version": "3.8.10"
  },
  "toc": {
   "base_numbering": 1,
   "nav_menu": {},
   "number_sections": true,
   "sideBar": true,
   "skip_h1_title": false,
   "title_cell": "Table of Contents",
   "title_sidebar": "Contents",
   "toc_cell": false,
   "toc_position": {},
   "toc_section_display": true,
   "toc_window_display": false
  },
  "varInspector": {
   "cols": {
    "lenName": 16,
    "lenType": 16,
    "lenVar": 40
   },
   "kernels_config": {
    "python": {
     "delete_cmd_postfix": "",
     "delete_cmd_prefix": "del ",
     "library": "var_list.py",
     "varRefreshCmd": "print(var_dic_list())"
    },
    "r": {
     "delete_cmd_postfix": ") ",
     "delete_cmd_prefix": "rm(",
     "library": "var_list.r",
     "varRefreshCmd": "cat(var_dic_list()) "
    }
   },
   "types_to_exclude": [
    "module",
    "function",
    "builtin_function_or_method",
    "instance",
    "_Feature"
   ],
   "window_display": false
  }
 },
 "nbformat": 4,
 "nbformat_minor": 2
}
