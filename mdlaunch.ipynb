{
 "cells": [
  {
   "cell_type": "code",
   "execution_count": 2,
   "metadata": {},
   "outputs": [
    {
     "data": {
      "application/javascript": [
       "IPython.OutputArea.prototype._should_scroll = function(lines) {\n",
       "    return false;\n",
       "}\n"
      ],
      "text/plain": [
       "<IPython.core.display.Javascript object>"
      ]
     },
     "metadata": {},
     "output_type": "display_data"
    }
   ],
   "source": [
    "%%javascript\n",
    "IPython.OutputArea.prototype._should_scroll = function(lines) {\n",
    "    return false;\n",
    "}"
   ]
  },
  {
   "cell_type": "code",
   "execution_count": 3,
   "metadata": {},
   "outputs": [],
   "source": [
    "import os,sys\n",
    "sys.path.append('./misc/lib/python3.7/site-packages')\n",
    "\n",
    "import math\n",
    "import numpy as np\n",
    "import requests\n",
    "import ipywidgets as widgets\n",
    "import matplotlib.pyplot as plt\n",
    "from IPython.display import display, display_markdown\n",
    "from ipywidgets import Layout, HTML\n",
    "from pathlib import Path\n",
    "\n",
    "NGL_DEF = False\n",
    "try:\n",
    "    import nglview as nv\n",
    "    NGL_DEF = True\n",
    "except:\n",
    "    NGL_DEF = False\n",
    "    \n",
    "\n",
    "import parmed as pmd\n",
    "import re\n",
    "\n",
    "from scipy.ndimage import gaussian_filter\n",
    "\n",
    "np.set_printoptions(precision=8)\n",
    "np.set_printoptions(suppress=True)\n",
    "\n",
    "HTMLButtonPrompt = '''<html>\n",
    "<head>\n",
    "<meta name=\"viewport\" content=\"width=device-width, initial-scale=1\">\n",
    "</head>\n",
    "<body>\n",
    "<a href=\"{link}\" target=\"_blank\" >\n",
    "<button class=\"p-Widget jupyter-widgets jupyter-button widget-button mod-warning\" style=\"width:100px; background-color:#E9E9E9; font-size:10pt; color:black\">{text}</button>\n",
    "</a>\n",
    "</body>\n",
    "</html>\n",
    "'''\n",
    "\n",
    "HTMLDeadPrompt = '''<html>\n",
    "<head>\n",
    "<meta name=\"viewport\" content=\"width=device-width, initial-scale=1\">\n",
    "</head>\n",
    "<body>\n",
    "<button class=\"p-Widget jupyter-widgets jupyter-button widget-button mod-warning\" style=\"width:100px; background-color:#E9E9E9; font-size:10pt; color:#D2D2D2\">{text}</button>\n",
    "</body>\n",
    "</html>\n",
    "'''\n",
    "\n",
    "forbidden_strings = [\"..\", \"/\", \"\\\\\", \" \", \"~\"]"
   ]
  },
  {
   "cell_type": "code",
   "execution_count": 4,
   "metadata": {},
   "outputs": [],
   "source": [
    "DATADIR = 'data'"
   ]
  },
  {
   "cell_type": "code",
   "execution_count": 12,
   "metadata": {},
   "outputs": [
    {
     "data": {
      "application/vnd.jupyter.widget-view+json": {
       "model_id": "45f1d2cf2f8443efbee980cf8667c3db",
       "version_major": 2,
       "version_minor": 0
      },
      "text/plain": [
       "HBox(children=(Dropdown(description='System:', layout=Layout(width='6cm'), options=('2DRE', '2DRE_A', '2DRE_D'…"
      ]
     },
     "metadata": {},
     "output_type": "display_data"
    },
    {
     "data": {
      "application/vnd.jupyter.widget-view+json": {
       "model_id": "39e640d69ab24f22a7425d0043992dc1",
       "version_major": 2,
       "version_minor": 0
      },
      "text/plain": [
       "HTML(value='<html>\\n<head>\\n<meta name=\"viewport\" content=\"width=device-width, initial-scale=1\">\\n</head>\\n<bo…"
      ]
     },
     "metadata": {},
     "output_type": "display_data"
    }
   ],
   "source": [
    "mddrop = widgets.Dropdown(\n",
    "    options=[],\n",
    "    value = None,\n",
    "    description='System:',\n",
    "    disabled=False,\n",
    "    layout=Layout(width='6cm')\n",
    ")\n",
    "mddrop.style.description_width='2cm'\n",
    "\n",
    "# Executed when selection changes\n",
    "def mddrop_on_value_change(change):\n",
    "    prefix = mddrop.value\n",
    "    if os.path.isfile(DATADIR + '/md/' + prefix + '/md_organizer.ipynb'):\n",
    "        launch_bt.value = HTMLButtonPrompt.format(link=DATADIR + \"/md/\" + prefix + \"/md_organizer.ipynb\", text='Launch')\n",
    "    else:\n",
    "        launch_bt.value = HTMLDeadPrompt.format(text='Launch')\n",
    "        \n",
    "    \n",
    "mddrop.observe(mddrop_on_value_change, 'value')\n",
    "\n",
    "\n",
    "def refresh_mdlist(b):\n",
    "    mdsys = mddrop.value\n",
    "    dirlist = !{\"ls \" + DATADIR + \"/md\"}\n",
    "    mdlist = []\n",
    "    for folder in dirlist:\n",
    "        prefix = folder.split('/')[-1]\n",
    "        if prefix!=\"readme.txt\":\n",
    "            mdlist.append(prefix)\n",
    "    mddrop.options = mdlist\n",
    "    \n",
    "refresh_bt = widgets.Button(\n",
    "    description='Refresh List',\n",
    "    layout=widgets.Layout(width='2.5cm')\n",
    ")\n",
    "refresh_bt.on_click(refresh_mdlist)\n",
    "\n",
    "launch_bt = widgets.HTML()\n",
    "\n",
    "refresh_mdlist(0)\n",
    "\n",
    "\n",
    "display(widgets.HBox([mddrop, refresh_bt]))\n",
    "display(launch_bt)"
   ]
  },
  {
   "cell_type": "code",
   "execution_count": null,
   "metadata": {},
   "outputs": [],
   "source": []
  }
 ],
 "metadata": {
  "kernelspec": {
   "display_name": "Python 3",
   "language": "python",
   "name": "python3"
  },
  "language_info": {
   "codemirror_mode": {
    "name": "ipython",
    "version": 3
   },
   "file_extension": ".py",
   "mimetype": "text/x-python",
   "name": "python",
   "nbconvert_exporter": "python",
   "pygments_lexer": "ipython3",
   "version": "3.7.7"
  }
 },
 "nbformat": 4,
 "nbformat_minor": 2
}
